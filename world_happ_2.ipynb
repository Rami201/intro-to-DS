{
 "cells": [
  {
   "cell_type": "code",
   "execution_count": 1,
   "metadata": {},
   "outputs": [
    {
     "ename": "ImportError",
     "evalue": "No module named 'seaborn'",
     "output_type": "error",
     "traceback": [
      "\u001b[1;31m---------------------------------------------------------------------------\u001b[0m",
      "\u001b[1;31mImportError\u001b[0m                               Traceback (most recent call last)",
      "\u001b[1;32m<ipython-input-1-0b74d8e4cb2b>\u001b[0m in \u001b[0;36m<module>\u001b[1;34m()\u001b[0m\n\u001b[0;32m      1\u001b[0m \u001b[1;32mimport\u001b[0m \u001b[0mpandas\u001b[0m \u001b[1;32mas\u001b[0m \u001b[0mpd\u001b[0m\u001b[1;33m\u001b[0m\u001b[0m\n\u001b[1;32m----> 2\u001b[1;33m \u001b[1;32mimport\u001b[0m \u001b[0mseaborn\u001b[0m \u001b[1;32mas\u001b[0m \u001b[0msns\u001b[0m\u001b[1;33m\u001b[0m\u001b[0m\n\u001b[0m\u001b[0;32m      3\u001b[0m \u001b[1;32mimport\u001b[0m \u001b[0mnumpy\u001b[0m \u001b[1;32mas\u001b[0m \u001b[0mnp\u001b[0m\u001b[1;33m\u001b[0m\u001b[0m\n\u001b[0;32m      4\u001b[0m \u001b[1;32mimport\u001b[0m \u001b[0mmatplotlib\u001b[0m\u001b[1;33m.\u001b[0m\u001b[0mpyplot\u001b[0m \u001b[1;32mas\u001b[0m \u001b[0mplt\u001b[0m\u001b[1;33m\u001b[0m\u001b[0m\n\u001b[0;32m      5\u001b[0m \u001b[0mget_ipython\u001b[0m\u001b[1;33m(\u001b[0m\u001b[1;33m)\u001b[0m\u001b[1;33m.\u001b[0m\u001b[0mmagic\u001b[0m\u001b[1;33m(\u001b[0m\u001b[1;34m'matplotlib inline'\u001b[0m\u001b[1;33m)\u001b[0m\u001b[1;33m\u001b[0m\u001b[0m\n",
      "\u001b[1;31mImportError\u001b[0m: No module named 'seaborn'"
     ]
    }
   ],
   "source": [
    "import pandas as pd\n",
    "import seaborn as sns\n",
    "import numpy as np\n",
    "import matplotlib.pyplot as plt\n",
    "%matplotlib inline"
   ]
  },
  {
   "cell_type": "code",
   "execution_count": null,
   "metadata": {
    "collapsed": true
   },
   "outputs": [],
   "source": [
    "df = pd.read_csv('world_happiness_2017.csv')"
   ]
  },
  {
   "cell_type": "code",
   "execution_count": 3,
   "metadata": {},
   "outputs": [
    {
     "data": {
      "text/html": [
       "<div>\n",
       "<style scoped>\n",
       "    .dataframe tbody tr th:only-of-type {\n",
       "        vertical-align: middle;\n",
       "    }\n",
       "\n",
       "    .dataframe tbody tr th {\n",
       "        vertical-align: top;\n",
       "    }\n",
       "\n",
       "    .dataframe thead th {\n",
       "        text-align: right;\n",
       "    }\n",
       "</style>\n",
       "<table border=\"1\" class=\"dataframe\">\n",
       "  <thead>\n",
       "    <tr style=\"text-align: right;\">\n",
       "      <th></th>\n",
       "      <th>Country</th>\n",
       "      <th>Happiness.Rank</th>\n",
       "      <th>Happiness.Score</th>\n",
       "      <th>Whisker.high</th>\n",
       "      <th>Whisker.low</th>\n",
       "      <th>Economy..GDP.per.Capita.</th>\n",
       "      <th>Family</th>\n",
       "      <th>Health..Life.Expectancy.</th>\n",
       "      <th>Freedom</th>\n",
       "      <th>Generosity</th>\n",
       "      <th>Trust..Government.Corruption.</th>\n",
       "      <th>Dystopia.Residual</th>\n",
       "    </tr>\n",
       "  </thead>\n",
       "  <tbody>\n",
       "    <tr>\n",
       "      <th>0</th>\n",
       "      <td>Norway</td>\n",
       "      <td>1</td>\n",
       "      <td>7.537</td>\n",
       "      <td>7.594445</td>\n",
       "      <td>7.479556</td>\n",
       "      <td>1.616463</td>\n",
       "      <td>1.533524</td>\n",
       "      <td>0.796667</td>\n",
       "      <td>0.635423</td>\n",
       "      <td>0.362012</td>\n",
       "      <td>0.315964</td>\n",
       "      <td>2.277027</td>\n",
       "    </tr>\n",
       "    <tr>\n",
       "      <th>1</th>\n",
       "      <td>Denmark</td>\n",
       "      <td>2</td>\n",
       "      <td>7.522</td>\n",
       "      <td>7.581728</td>\n",
       "      <td>7.462272</td>\n",
       "      <td>1.482383</td>\n",
       "      <td>1.551122</td>\n",
       "      <td>0.792566</td>\n",
       "      <td>0.626007</td>\n",
       "      <td>0.355280</td>\n",
       "      <td>0.400770</td>\n",
       "      <td>2.313707</td>\n",
       "    </tr>\n",
       "    <tr>\n",
       "      <th>2</th>\n",
       "      <td>Iceland</td>\n",
       "      <td>3</td>\n",
       "      <td>7.504</td>\n",
       "      <td>7.622030</td>\n",
       "      <td>7.385970</td>\n",
       "      <td>1.480633</td>\n",
       "      <td>1.610574</td>\n",
       "      <td>0.833552</td>\n",
       "      <td>0.627163</td>\n",
       "      <td>0.475540</td>\n",
       "      <td>0.153527</td>\n",
       "      <td>2.322715</td>\n",
       "    </tr>\n",
       "    <tr>\n",
       "      <th>3</th>\n",
       "      <td>Switzerland</td>\n",
       "      <td>4</td>\n",
       "      <td>7.494</td>\n",
       "      <td>7.561772</td>\n",
       "      <td>7.426227</td>\n",
       "      <td>1.564980</td>\n",
       "      <td>1.516912</td>\n",
       "      <td>0.858131</td>\n",
       "      <td>0.620071</td>\n",
       "      <td>0.290549</td>\n",
       "      <td>0.367007</td>\n",
       "      <td>2.276716</td>\n",
       "    </tr>\n",
       "    <tr>\n",
       "      <th>4</th>\n",
       "      <td>Finland</td>\n",
       "      <td>5</td>\n",
       "      <td>7.469</td>\n",
       "      <td>7.527542</td>\n",
       "      <td>7.410458</td>\n",
       "      <td>1.443572</td>\n",
       "      <td>1.540247</td>\n",
       "      <td>0.809158</td>\n",
       "      <td>0.617951</td>\n",
       "      <td>0.245483</td>\n",
       "      <td>0.382612</td>\n",
       "      <td>2.430182</td>\n",
       "    </tr>\n",
       "  </tbody>\n",
       "</table>\n",
       "</div>"
      ],
      "text/plain": [
       "       Country  Happiness.Rank  Happiness.Score  Whisker.high  Whisker.low  \\\n",
       "0       Norway               1            7.537      7.594445     7.479556   \n",
       "1      Denmark               2            7.522      7.581728     7.462272   \n",
       "2      Iceland               3            7.504      7.622030     7.385970   \n",
       "3  Switzerland               4            7.494      7.561772     7.426227   \n",
       "4      Finland               5            7.469      7.527542     7.410458   \n",
       "\n",
       "   Economy..GDP.per.Capita.    Family  Health..Life.Expectancy.   Freedom  \\\n",
       "0                  1.616463  1.533524                  0.796667  0.635423   \n",
       "1                  1.482383  1.551122                  0.792566  0.626007   \n",
       "2                  1.480633  1.610574                  0.833552  0.627163   \n",
       "3                  1.564980  1.516912                  0.858131  0.620071   \n",
       "4                  1.443572  1.540247                  0.809158  0.617951   \n",
       "\n",
       "   Generosity  Trust..Government.Corruption.  Dystopia.Residual  \n",
       "0    0.362012                       0.315964           2.277027  \n",
       "1    0.355280                       0.400770           2.313707  \n",
       "2    0.475540                       0.153527           2.322715  \n",
       "3    0.290549                       0.367007           2.276716  \n",
       "4    0.245483                       0.382612           2.430182  "
      ]
     },
     "execution_count": 3,
     "metadata": {},
     "output_type": "execute_result"
    }
   ],
   "source": [
    "df.head()"
   ]
  },
  {
   "cell_type": "code",
   "execution_count": 4,
   "metadata": {},
   "outputs": [
    {
     "data": {
      "text/plain": [
       "1"
      ]
     },
     "execution_count": 4,
     "metadata": {},
     "output_type": "execute_result"
    }
   ],
   "source": [
    "sum(df['Economy..GDP.per.Capita.'].isnull())\n",
    "sum(df['Economy..GDP.per.Capita.']==0)\n"
   ]
  },
  {
   "cell_type": "code",
   "execution_count": 5,
   "metadata": {
    "collapsed": true
   },
   "outputs": [],
   "source": [
    "df = df.drop(df.index[154:])"
   ]
  },
  {
   "cell_type": "code",
   "execution_count": 6,
   "metadata": {},
   "outputs": [
    {
     "data": {
      "text/plain": [
       "Index(['Country', 'Happiness.Rank', 'Happiness.Score', 'Whisker.high',\n",
       "       'Whisker.low', 'Economy..GDP.per.Capita.', 'Family',\n",
       "       'Health..Life.Expectancy.', 'Freedom', 'Generosity',\n",
       "       'Trust..Government.Corruption.', 'Dystopia.Residual'],\n",
       "      dtype='object')"
      ]
     },
     "execution_count": 6,
     "metadata": {},
     "output_type": "execute_result"
    }
   ],
   "source": [
    "df.columns"
   ]
  },
  {
   "cell_type": "code",
   "execution_count": 7,
   "metadata": {
    "collapsed": true
   },
   "outputs": [],
   "source": [
    "#df['Health..Life.Expectancy.'] == 0\n",
    "# 138\n",
    "#df.Freedom == 0\n",
    "#139\n"
   ]
  },
  {
   "cell_type": "code",
   "execution_count": 8,
   "metadata": {
    "collapsed": true
   },
   "outputs": [],
   "source": [
    "# print(sum(df['Health..Life.Expectancy.']==0 ))\n",
    "# print(sum(df['Freedom']==0 ))\n",
    "#print(sum(df['Trust..Government.Corruption.']==0 ))\n",
    "\n"
   ]
  },
  {
   "cell_type": "code",
   "execution_count": 9,
   "metadata": {
    "collapsed": true
   },
   "outputs": [],
   "source": [
    "df = df.drop(df.index[138:139])"
   ]
  },
  {
   "cell_type": "code",
   "execution_count": 10,
   "metadata": {},
   "outputs": [
    {
     "data": {
      "text/plain": [
       "1"
      ]
     },
     "execution_count": 10,
     "metadata": {},
     "output_type": "execute_result"
    }
   ],
   "source": [
    "sum(df['Health..Life.Expectancy.'] == 0)\n",
    "sum(df['Freedom'] == 0)"
   ]
  },
  {
   "cell_type": "code",
   "execution_count": 11,
   "metadata": {
    "collapsed": true
   },
   "outputs": [],
   "source": [
    "df = df.drop(df.index[138:139])"
   ]
  },
  {
   "cell_type": "code",
   "execution_count": 12,
   "metadata": {},
   "outputs": [
    {
     "data": {
      "text/html": [
       "<div>\n",
       "<style scoped>\n",
       "    .dataframe tbody tr th:only-of-type {\n",
       "        vertical-align: middle;\n",
       "    }\n",
       "\n",
       "    .dataframe tbody tr th {\n",
       "        vertical-align: top;\n",
       "    }\n",
       "\n",
       "    .dataframe thead th {\n",
       "        text-align: right;\n",
       "    }\n",
       "</style>\n",
       "<table border=\"1\" class=\"dataframe\">\n",
       "  <thead>\n",
       "    <tr style=\"text-align: right;\">\n",
       "      <th></th>\n",
       "      <th>Country</th>\n",
       "      <th>Happiness.Rank</th>\n",
       "      <th>Happiness.Score</th>\n",
       "      <th>Whisker.high</th>\n",
       "      <th>Whisker.low</th>\n",
       "      <th>Economy..GDP.per.Capita.</th>\n",
       "      <th>Family</th>\n",
       "      <th>Health..Life.Expectancy.</th>\n",
       "      <th>Freedom</th>\n",
       "      <th>Generosity</th>\n",
       "      <th>Trust..Government.Corruption.</th>\n",
       "      <th>Dystopia.Residual</th>\n",
       "    </tr>\n",
       "  </thead>\n",
       "  <tbody>\n",
       "    <tr>\n",
       "      <th>140</th>\n",
       "      <td>Afghanistan</td>\n",
       "      <td>141</td>\n",
       "      <td>3.794</td>\n",
       "      <td>3.873661</td>\n",
       "      <td>3.714338</td>\n",
       "      <td>0.401477</td>\n",
       "      <td>0.581543</td>\n",
       "      <td>0.180747</td>\n",
       "      <td>0.10618</td>\n",
       "      <td>0.311871</td>\n",
       "      <td>0.061158</td>\n",
       "      <td>2.150801</td>\n",
       "    </tr>\n",
       "  </tbody>\n",
       "</table>\n",
       "</div>"
      ],
      "text/plain": [
       "         Country  Happiness.Rank  Happiness.Score  Whisker.high  Whisker.low  \\\n",
       "140  Afghanistan             141            3.794      3.873661     3.714338   \n",
       "\n",
       "     Economy..GDP.per.Capita.    Family  Health..Life.Expectancy.  Freedom  \\\n",
       "140                  0.401477  0.581543                  0.180747  0.10618   \n",
       "\n",
       "     Generosity  Trust..Government.Corruption.  Dystopia.Residual  \n",
       "140    0.311871                       0.061158           2.150801  "
      ]
     },
     "execution_count": 12,
     "metadata": {},
     "output_type": "execute_result"
    }
   ],
   "source": [
    "df[138:139]"
   ]
  },
  {
   "cell_type": "code",
   "execution_count": 13,
   "metadata": {},
   "outputs": [
    {
     "data": {
      "text/plain": [
       "False"
      ]
     },
     "execution_count": 13,
     "metadata": {},
     "output_type": "execute_result"
    }
   ],
   "source": [
    "sum(df['Health..Life.Expectancy.']) == 0"
   ]
  },
  {
   "cell_type": "code",
   "execution_count": 14,
   "metadata": {
    "collapsed": true
   },
   "outputs": [],
   "source": [
    "df = df.drop(df.index[89:90])"
   ]
  },
  {
   "cell_type": "code",
   "execution_count": 15,
   "metadata": {},
   "outputs": [
    {
     "data": {
      "text/html": [
       "<div>\n",
       "<style scoped>\n",
       "    .dataframe tbody tr th:only-of-type {\n",
       "        vertical-align: middle;\n",
       "    }\n",
       "\n",
       "    .dataframe tbody tr th {\n",
       "        vertical-align: top;\n",
       "    }\n",
       "\n",
       "    .dataframe thead th {\n",
       "        text-align: right;\n",
       "    }\n",
       "</style>\n",
       "<table border=\"1\" class=\"dataframe\">\n",
       "  <thead>\n",
       "    <tr style=\"text-align: right;\">\n",
       "      <th></th>\n",
       "      <th>Country</th>\n",
       "      <th>Happiness.Rank</th>\n",
       "      <th>Happiness.Score</th>\n",
       "      <th>Whisker.high</th>\n",
       "      <th>Whisker.low</th>\n",
       "      <th>Economy..GDP.per.Capita.</th>\n",
       "      <th>Family</th>\n",
       "      <th>Health..Life.Expectancy.</th>\n",
       "      <th>Freedom</th>\n",
       "      <th>Generosity</th>\n",
       "      <th>Trust..Government.Corruption.</th>\n",
       "      <th>Dystopia.Residual</th>\n",
       "    </tr>\n",
       "  </thead>\n",
       "  <tbody>\n",
       "    <tr>\n",
       "      <th>90</th>\n",
       "      <td>Honduras</td>\n",
       "      <td>91</td>\n",
       "      <td>5.181</td>\n",
       "      <td>5.301583</td>\n",
       "      <td>5.060418</td>\n",
       "      <td>0.730573</td>\n",
       "      <td>1.143945</td>\n",
       "      <td>0.582569</td>\n",
       "      <td>0.348080</td>\n",
       "      <td>0.236189</td>\n",
       "      <td>0.073345</td>\n",
       "      <td>2.065811</td>\n",
       "    </tr>\n",
       "    <tr>\n",
       "      <th>91</th>\n",
       "      <td>Macedonia</td>\n",
       "      <td>92</td>\n",
       "      <td>5.175</td>\n",
       "      <td>5.272173</td>\n",
       "      <td>5.077828</td>\n",
       "      <td>1.064578</td>\n",
       "      <td>1.207893</td>\n",
       "      <td>0.644948</td>\n",
       "      <td>0.325906</td>\n",
       "      <td>0.253761</td>\n",
       "      <td>0.060278</td>\n",
       "      <td>1.617469</td>\n",
       "    </tr>\n",
       "  </tbody>\n",
       "</table>\n",
       "</div>"
      ],
      "text/plain": [
       "      Country  Happiness.Rank  Happiness.Score  Whisker.high  Whisker.low  \\\n",
       "90   Honduras              91            5.181      5.301583     5.060418   \n",
       "91  Macedonia              92            5.175      5.272173     5.077828   \n",
       "\n",
       "    Economy..GDP.per.Capita.    Family  Health..Life.Expectancy.   Freedom  \\\n",
       "90                  0.730573  1.143945                  0.582569  0.348080   \n",
       "91                  1.064578  1.207893                  0.644948  0.325906   \n",
       "\n",
       "    Generosity  Trust..Government.Corruption.  Dystopia.Residual  \n",
       "90    0.236189                       0.073345           2.065811  \n",
       "91    0.253761                       0.060278           1.617469  "
      ]
     },
     "execution_count": 15,
     "metadata": {},
     "output_type": "execute_result"
    }
   ],
   "source": [
    "df[89:91]"
   ]
  },
  {
   "cell_type": "code",
   "execution_count": null,
   "metadata": {
    "collapsed": true
   },
   "outputs": [],
   "source": []
  },
  {
   "cell_type": "code",
   "execution_count": 16,
   "metadata": {},
   "outputs": [
    {
     "data": {
      "text/plain": [
       "5.39"
      ]
     },
     "execution_count": 16,
     "metadata": {},
     "output_type": "execute_result"
    }
   ],
   "source": [
    "round(df['Happiness.Score'].mean(),2)"
   ]
  },
  {
   "cell_type": "code",
   "execution_count": 17,
   "metadata": {},
   "outputs": [
    {
     "data": {
      "text/plain": [
       "5.31"
      ]
     },
     "execution_count": 17,
     "metadata": {},
     "output_type": "execute_result"
    }
   ],
   "source": [
    "round(df['Happiness.Score'].median(),2)"
   ]
  },
  {
   "cell_type": "code",
   "execution_count": 18,
   "metadata": {},
   "outputs": [
    {
     "data": {
      "text/plain": [
       "0.56"
      ]
     },
     "execution_count": 18,
     "metadata": {},
     "output_type": "execute_result"
    }
   ],
   "source": [
    "round(df['Health..Life.Expectancy.'].mean(),2)"
   ]
  },
  {
   "cell_type": "code",
   "execution_count": 19,
   "metadata": {},
   "outputs": [
    {
     "data": {
      "text/plain": [
       "0.61"
      ]
     },
     "execution_count": 19,
     "metadata": {},
     "output_type": "execute_result"
    }
   ],
   "source": [
    "round(df['Health..Life.Expectancy.'].median(),2)"
   ]
  },
  {
   "cell_type": "code",
   "execution_count": 20,
   "metadata": {},
   "outputs": [
    {
     "data": {
      "text/plain": [
       "1.07"
      ]
     },
     "execution_count": 20,
     "metadata": {},
     "output_type": "execute_result"
    }
   ],
   "source": [
    "round(df['Economy..GDP.per.Capita.'].median(),2)"
   ]
  },
  {
   "cell_type": "code",
   "execution_count": 21,
   "metadata": {},
   "outputs": [
    {
     "data": {
      "text/plain": [
       "12"
      ]
     },
     "execution_count": 21,
     "metadata": {},
     "output_type": "execute_result"
    }
   ],
   "source": [
    "sum(df['Trust..Government.Corruption.'] > .3)"
   ]
  },
  {
   "cell_type": "code",
   "execution_count": 22,
   "metadata": {
    "collapsed": true
   },
   "outputs": [],
   "source": [
    "#df['Trust..Government.Corruption.']  >.3\n",
    "#df[0,,1,2,3,4,7,8,9,17,20,25,150]\n"
   ]
  },
  {
   "cell_type": "code",
   "execution_count": 23,
   "metadata": {
    "collapsed": true
   },
   "outputs": [],
   "source": [
    "df = df.drop(df.index[0:2])\n",
    "df = df.drop(df.index[3:5])\n",
    "df = df.drop(df.index[7:10])\n",
    "df = df.drop(df.index[17:21])\n",
    "df = df.drop(df.index[25:26])\n",
    "df = df.drop(df.index[150:151])"
   ]
  },
  {
   "cell_type": "code",
   "execution_count": 24,
   "metadata": {},
   "outputs": [
    {
     "data": {
      "text/plain": [
       "9"
      ]
     },
     "execution_count": 24,
     "metadata": {},
     "output_type": "execute_result"
    }
   ],
   "source": [
    "sum(df['Trust..Government.Corruption.'] > .3)"
   ]
  },
  {
   "cell_type": "code",
   "execution_count": null,
   "metadata": {
    "collapsed": true
   },
   "outputs": [],
   "source": []
  },
  {
   "cell_type": "code",
   "execution_count": 25,
   "metadata": {},
   "outputs": [
    {
     "data": {
      "text/plain": [
       "0.11"
      ]
     },
     "execution_count": 25,
     "metadata": {},
     "output_type": "execute_result"
    }
   ],
   "source": [
    "round(df['Trust..Government.Corruption.'].mean(),2)"
   ]
  },
  {
   "cell_type": "code",
   "execution_count": 26,
   "metadata": {},
   "outputs": [
    {
     "data": {
      "text/plain": [
       "0.09"
      ]
     },
     "execution_count": 26,
     "metadata": {},
     "output_type": "execute_result"
    }
   ],
   "source": [
    "round(df['Trust..Government.Corruption.'].median(),2)"
   ]
  },
  {
   "cell_type": "code",
   "execution_count": 27,
   "metadata": {},
   "outputs": [
    {
     "data": {
      "text/plain": [
       "<seaborn.axisgrid.FacetGrid at 0x1f942cbc0b8>"
      ]
     },
     "execution_count": 27,
     "metadata": {},
     "output_type": "execute_result"
    },
    {
     "data": {
      "image/png": "[encoded data removed]",
      "text/plain": [
       "<Figure size 360x360 with 1 Axes>"
      ]
     },
     "metadata": {
      "needs_background": "light"
     },
     "output_type": "display_data"
    }
   ],
   "source": [
    "sns.lmplot(x='Happiness.Score', y='Freedom',data=df)"
   ]
  },
  {
   "cell_type": "code",
   "execution_count": 28,
   "metadata": {},
   "outputs": [
    {
     "data": {
      "text/plain": [
       "<seaborn.axisgrid.FacetGrid at 0x1f942fcf828>"
      ]
     },
     "execution_count": 28,
     "metadata": {},
     "output_type": "execute_result"
    },
    {
     "data": {
      "image/png": "[encoded data removed]",
      "text/plain": [
       "<Figure size 360x360 with 1 Axes>"
      ]
     },
     "metadata": {
      "needs_background": "light"
     },
     "output_type": "display_data"
    }
   ],
   "source": [
    "sns.lmplot(x='Happiness.Score', y='Health..Life.Expectancy.',data=df)"
   ]
  },
  {
   "cell_type": "code",
   "execution_count": 29,
   "metadata": {},
   "outputs": [
    {
     "data": {
      "text/plain": [
       "<seaborn.axisgrid.FacetGrid at 0x1f943049630>"
      ]
     },
     "execution_count": 29,
     "metadata": {},
     "output_type": "execute_result"
    },
    {
     "data": {
      "image/png": "[encoded data removed]",
      "text/plain": [
       "<Figure size 360x360 with 1 Axes>"
      ]
     },
     "metadata": {
      "needs_background": "light"
     },
     "output_type": "display_data"
    }
   ],
   "source": [
    "sns.lmplot(x='Economy..GDP.per.Capita.', y='Freedom',data=df)"
   ]
  },
  {
   "cell_type": "code",
   "execution_count": null,
   "metadata": {
    "collapsed": true
   },
   "outputs": [],
   "source": []
  },
  {
   "cell_type": "code",
   "execution_count": 30,
   "metadata": {},
   "outputs": [
    {
     "data": {
      "text/plain": [
       "array([[<matplotlib.axes._subplots.AxesSubplot object at 0x000001F9430C0470>,\n",
       "        <matplotlib.axes._subplots.AxesSubplot object at 0x000001F9430E87B8>,\n",
       "        <matplotlib.axes._subplots.AxesSubplot object at 0x000001F94310FD30>],\n",
       "       [<matplotlib.axes._subplots.AxesSubplot object at 0x000001F9431422E8>,\n",
       "        <matplotlib.axes._subplots.AxesSubplot object at 0x000001F943168860>,\n",
       "        <matplotlib.axes._subplots.AxesSubplot object at 0x000001F943192DD8>],\n",
       "       [<matplotlib.axes._subplots.AxesSubplot object at 0x000001F9431C3390>,\n",
       "        <matplotlib.axes._subplots.AxesSubplot object at 0x000001F9431E7940>,\n",
       "        <matplotlib.axes._subplots.AxesSubplot object at 0x000001F9431E7978>],\n",
       "       [<matplotlib.axes._subplots.AxesSubplot object at 0x000001F943240438>,\n",
       "        <matplotlib.axes._subplots.AxesSubplot object at 0x000001F9432689B0>,\n",
       "        <matplotlib.axes._subplots.AxesSubplot object at 0x000001F943292F28>]],\n",
       "      dtype=object)"
      ]
     },
     "execution_count": 30,
     "metadata": {},
     "output_type": "execute_result"
    },
    {
     "data": {
      "image/png": "[encoded data removed]",
      "text/plain": [
       "<Figure size 1440x1080 with 12 Axes>"
      ]
     },
     "metadata": {
      "needs_background": "light"
     },
     "output_type": "display_data"
    }
   ],
   "source": [
    "df.hist(bins=50, figsize=(20,15))"
   ]
  },
  {
   "cell_type": "code",
   "execution_count": null,
   "metadata": {
    "collapsed": true
   },
   "outputs": [],
   "source": []
  },
  {
   "cell_type": "code",
   "execution_count": null,
   "metadata": {
    "collapsed": true
   },
   "outputs": [],
   "source": []
  },
  {
   "cell_type": "code",
   "execution_count": 32,
   "metadata": {},
   "outputs": [
    {
     "data": {
      "text/html": [
       "<div>\n",
       "<style scoped>\n",
       "    .dataframe tbody tr th:only-of-type {\n",
       "        vertical-align: middle;\n",
       "    }\n",
       "\n",
       "    .dataframe tbody tr th {\n",
       "        vertical-align: top;\n",
       "    }\n",
       "\n",
       "    .dataframe thead th {\n",
       "        text-align: right;\n",
       "    }\n",
       "</style>\n",
       "<table border=\"1\" class=\"dataframe\">\n",
       "  <thead>\n",
       "    <tr style=\"text-align: right;\">\n",
       "      <th></th>\n",
       "      <th>Happiness.Rank</th>\n",
       "      <th>Happiness.Score</th>\n",
       "      <th>Whisker.high</th>\n",
       "      <th>Whisker.low</th>\n",
       "      <th>Economy..GDP.per.Capita.</th>\n",
       "      <th>Family</th>\n",
       "      <th>Health..Life.Expectancy.</th>\n",
       "      <th>Freedom</th>\n",
       "      <th>Generosity</th>\n",
       "      <th>Trust..Government.Corruption.</th>\n",
       "      <th>Dystopia.Residual</th>\n",
       "    </tr>\n",
       "  </thead>\n",
       "  <tbody>\n",
       "    <tr>\n",
       "      <th>Happiness.Rank</th>\n",
       "      <td>1.000000</td>\n",
       "      <td>-0.993540</td>\n",
       "      <td>-0.993634</td>\n",
       "      <td>-0.992331</td>\n",
       "      <td>-0.794587</td>\n",
       "      <td>-0.731157</td>\n",
       "      <td>-0.753179</td>\n",
       "      <td>-0.485992</td>\n",
       "      <td>-0.055612</td>\n",
       "      <td>-0.319523</td>\n",
       "      <td>-0.469733</td>\n",
       "    </tr>\n",
       "    <tr>\n",
       "      <th>Happiness.Score</th>\n",
       "      <td>-0.993540</td>\n",
       "      <td>1.000000</td>\n",
       "      <td>0.999423</td>\n",
       "      <td>0.999443</td>\n",
       "      <td>0.791404</td>\n",
       "      <td>0.738816</td>\n",
       "      <td>0.752581</td>\n",
       "      <td>0.508515</td>\n",
       "      <td>0.078620</td>\n",
       "      <td>0.344081</td>\n",
       "      <td>0.464579</td>\n",
       "    </tr>\n",
       "    <tr>\n",
       "      <th>Whisker.high</th>\n",
       "      <td>-0.993634</td>\n",
       "      <td>0.999423</td>\n",
       "      <td>1.000000</td>\n",
       "      <td>0.997733</td>\n",
       "      <td>0.790623</td>\n",
       "      <td>0.736135</td>\n",
       "      <td>0.747643</td>\n",
       "      <td>0.508482</td>\n",
       "      <td>0.080493</td>\n",
       "      <td>0.341253</td>\n",
       "      <td>0.467766</td>\n",
       "    </tr>\n",
       "    <tr>\n",
       "      <th>Whisker.low</th>\n",
       "      <td>-0.992331</td>\n",
       "      <td>0.999443</td>\n",
       "      <td>0.997733</td>\n",
       "      <td>1.000000</td>\n",
       "      <td>0.791281</td>\n",
       "      <td>0.740622</td>\n",
       "      <td>0.756590</td>\n",
       "      <td>0.507975</td>\n",
       "      <td>0.076691</td>\n",
       "      <td>0.346475</td>\n",
       "      <td>0.460923</td>\n",
       "    </tr>\n",
       "    <tr>\n",
       "      <th>Economy..GDP.per.Capita.</th>\n",
       "      <td>-0.794587</td>\n",
       "      <td>0.791404</td>\n",
       "      <td>0.790623</td>\n",
       "      <td>0.791281</td>\n",
       "      <td>1.000000</td>\n",
       "      <td>0.659391</td>\n",
       "      <td>0.841327</td>\n",
       "      <td>0.309646</td>\n",
       "      <td>-0.100320</td>\n",
       "      <td>0.257093</td>\n",
       "      <td>-0.017999</td>\n",
       "    </tr>\n",
       "  </tbody>\n",
       "</table>\n",
       "</div>"
      ],
      "text/plain": [
       "                          Happiness.Rank  Happiness.Score  Whisker.high  \\\n",
       "Happiness.Rank                  1.000000        -0.993540     -0.993634   \n",
       "Happiness.Score                -0.993540         1.000000      0.999423   \n",
       "Whisker.high                   -0.993634         0.999423      1.000000   \n",
       "Whisker.low                    -0.992331         0.999443      0.997733   \n",
       "Economy..GDP.per.Capita.       -0.794587         0.791404      0.790623   \n",
       "\n",
       "                          Whisker.low  Economy..GDP.per.Capita.    Family  \\\n",
       "Happiness.Rank              -0.992331                 -0.794587 -0.731157   \n",
       "Happiness.Score              0.999443                  0.791404  0.738816   \n",
       "Whisker.high                 0.997733                  0.790623  0.736135   \n",
       "Whisker.low                  1.000000                  0.791281  0.740622   \n",
       "Economy..GDP.per.Capita.     0.791281                  1.000000  0.659391   \n",
       "\n",
       "                          Health..Life.Expectancy.   Freedom  Generosity  \\\n",
       "Happiness.Rank                           -0.753179 -0.485992   -0.055612   \n",
       "Happiness.Score                           0.752581  0.508515    0.078620   \n",
       "Whisker.high                              0.747643  0.508482    0.080493   \n",
       "Whisker.low                               0.756590  0.507975    0.076691   \n",
       "Economy..GDP.per.Capita.                  0.841327  0.309646   -0.100320   \n",
       "\n",
       "                          Trust..Government.Corruption.  Dystopia.Residual  \n",
       "Happiness.Rank                                -0.319523          -0.469733  \n",
       "Happiness.Score                                0.344081           0.464579  \n",
       "Whisker.high                                   0.341253           0.467766  \n",
       "Whisker.low                                    0.346475           0.460923  \n",
       "Economy..GDP.per.Capita.                       0.257093          -0.017999  "
      ]
     },
     "execution_count": 32,
     "metadata": {},
     "output_type": "execute_result"
    }
   ],
   "source": [
    "df.corr().head()"
   ]
  },
  {
   "cell_type": "code",
   "execution_count": 33,
   "metadata": {},
   "outputs": [
    {
     "data": {
      "text/plain": [
       "<matplotlib.axes._subplots.AxesSubplot at 0x1f9439dd978>"
      ]
     },
     "execution_count": 33,
     "metadata": {},
     "output_type": "execute_result"
    },
    {
     "data": {
      "image/png": "[encoded data removed]",
      "text/plain": [
       "<Figure size 432x288 with 2 Axes>"
      ]
     },
     "metadata": {
      "needs_background": "light"
     },
     "output_type": "display_data"
    }
   ],
   "source": [
    "sns.heatmap(df.corr())"
   ]
  },
  {
   "cell_type": "code",
   "execution_count": 34,
   "metadata": {},
   "outputs": [
    {
     "data": {
      "text/plain": [
       "<matplotlib.axes._subplots.AxesSubplot at 0x1f943a99f98>"
      ]
     },
     "execution_count": 34,
     "metadata": {},
     "output_type": "execute_result"
    },
    {
     "data": {
      "image/png": "[encoded data removed]",
      "text/plain": [
       "<Figure size 432x288 with 1 Axes>"
      ]
     },
     "metadata": {
      "needs_background": "light"
     },
     "output_type": "display_data"
    }
   ],
   "source": [
    "sns.distplot(df['Happiness.Score'],bins=20)"
   ]
  },
  {
   "cell_type": "code",
   "execution_count": 35,
   "metadata": {},
   "outputs": [
    {
     "data": {
      "text/plain": [
       "<matplotlib.axes._subplots.AxesSubplot at 0x1f943a92f28>"
      ]
     },
     "execution_count": 35,
     "metadata": {},
     "output_type": "execute_result"
    },
    {
     "data": {
      "image/png": "[encoded data removed]",
      "text/plain": [
       "<Figure size 432x288 with 1 Axes>"
      ]
     },
     "metadata": {
      "needs_background": "light"
     },
     "output_type": "display_data"
    }
   ],
   "source": [
    "sns.distplot(df['Economy..GDP.per.Capita.'],bins= 50)"
   ]
  },
  {
   "cell_type": "code",
   "execution_count": 36,
   "metadata": {},
   "outputs": [
    {
     "data": {
      "text/plain": [
       "<matplotlib.axes._subplots.AxesSubplot at 0x1f943bcd048>"
      ]
     },
     "execution_count": 36,
     "metadata": {},
     "output_type": "execute_result"
    },
    {
     "data": {
      "image/png": "[encoded data removed]",
      "text/plain": [
       "<Figure size 432x288 with 1 Axes>"
      ]
     },
     "metadata": {
      "needs_background": "light"
     },
     "output_type": "display_data"
    }
   ],
   "source": [
    "sns.distplot(df['Health..Life.Expectancy.'],bins=30)"
   ]
  },
  {
   "cell_type": "code",
   "execution_count": 37,
   "metadata": {
    "collapsed": true
   },
   "outputs": [],
   "source": [
    "X = df[['Happiness.Score', 'Economy..GDP.per.Capita.', 'Freedom']]\n",
    "y = df['Health..Life.Expectancy.']"
   ]
  },
  {
   "cell_type": "code",
   "execution_count": 38,
   "metadata": {},
   "outputs": [
    {
     "data": {
      "text/plain": [
       "Index(['Country', 'Happiness.Rank', 'Happiness.Score', 'Whisker.high',\n",
       "       'Whisker.low', 'Economy..GDP.per.Capita.', 'Family',\n",
       "       'Health..Life.Expectancy.', 'Freedom', 'Generosity',\n",
       "       'Trust..Government.Corruption.', 'Dystopia.Residual'],\n",
       "      dtype='object')"
      ]
     },
     "execution_count": 38,
     "metadata": {},
     "output_type": "execute_result"
    }
   ],
   "source": [
    "df.columns"
   ]
  },
  {
   "cell_type": "code",
   "execution_count": null,
   "metadata": {
    "collapsed": true
   },
   "outputs": [],
   "source": []
  },
  {
   "cell_type": "code",
   "execution_count": 39,
   "metadata": {
    "collapsed": true
   },
   "outputs": [],
   "source": [
    "from sklearn.model_selection import train_test_split "
   ]
  },
  {
   "cell_type": "code",
   "execution_count": 40,
   "metadata": {
    "collapsed": true
   },
   "outputs": [],
   "source": [
    "X_train, X_test, y_train, y_test = train_test_split(X, y, test_size=0.30, random_state=101)"
   ]
  },
  {
   "cell_type": "code",
   "execution_count": 41,
   "metadata": {
    "collapsed": true
   },
   "outputs": [],
   "source": [
    "from sklearn.linear_model import LinearRegression "
   ]
  },
  {
   "cell_type": "code",
   "execution_count": 42,
   "metadata": {
    "collapsed": true
   },
   "outputs": [],
   "source": [
    "lm = LinearRegression()"
   ]
  },
  {
   "cell_type": "code",
   "execution_count": 43,
   "metadata": {},
   "outputs": [
    {
     "data": {
      "text/plain": [
       "LinearRegression(copy_X=True, fit_intercept=True, n_jobs=None,\n",
       "         normalize=False)"
      ]
     },
     "execution_count": 43,
     "metadata": {},
     "output_type": "execute_result"
    }
   ],
   "source": [
    "lm.fit(X_train,y_train)"
   ]
  },
  {
   "cell_type": "code",
   "execution_count": 44,
   "metadata": {},
   "outputs": [
    {
     "name": "stdout",
     "output_type": "stream",
     "text": [
      "-0.09708345399581741\n"
     ]
    }
   ],
   "source": [
    "print(lm.intercept_)"
   ]
  },
  {
   "cell_type": "code",
   "execution_count": 45,
   "metadata": {},
   "outputs": [
    {
     "data": {
      "text/html": [
       "<div>\n",
       "<style scoped>\n",
       "    .dataframe tbody tr th:only-of-type {\n",
       "        vertical-align: middle;\n",
       "    }\n",
       "\n",
       "    .dataframe tbody tr th {\n",
       "        vertical-align: top;\n",
       "    }\n",
       "\n",
       "    .dataframe thead th {\n",
       "        text-align: right;\n",
       "    }\n",
       "</style>\n",
       "<table border=\"1\" class=\"dataframe\">\n",
       "  <thead>\n",
       "    <tr style=\"text-align: right;\">\n",
       "      <th></th>\n",
       "      <th>Coefficient</th>\n",
       "    </tr>\n",
       "  </thead>\n",
       "  <tbody>\n",
       "    <tr>\n",
       "      <th>Happiness.Score</th>\n",
       "      <td>0.061391</td>\n",
       "    </tr>\n",
       "    <tr>\n",
       "      <th>Economy..GDP.per.Capita.</th>\n",
       "      <td>0.364484</td>\n",
       "    </tr>\n",
       "    <tr>\n",
       "      <th>Freedom</th>\n",
       "      <td>-0.100624</td>\n",
       "    </tr>\n",
       "  </tbody>\n",
       "</table>\n",
       "</div>"
      ],
      "text/plain": [
       "                          Coefficient\n",
       "Happiness.Score              0.061391\n",
       "Economy..GDP.per.Capita.     0.364484\n",
       "Freedom                     -0.100624"
      ]
     },
     "execution_count": 45,
     "metadata": {},
     "output_type": "execute_result"
    }
   ],
   "source": [
    "coeff_df = pd.DataFrame(lm.coef_,X.columns,columns=['Coefficient'])\n",
    "coeff_df"
   ]
  },
  {
   "cell_type": "markdown",
   "metadata": {},
   "source": [
    "Interpreting the coefficients:\n",
    "\n",
    "Holding all other features fixed, a 1 unit increase in Avg. Happiness Score is associated with an *increase of 0.061"
   ]
  },
  {
   "cell_type": "code",
   "execution_count": 47,
   "metadata": {
    "collapsed": true
   },
   "outputs": [],
   "source": [
    "predictions = lm.predict(X_test)"
   ]
  },
  {
   "cell_type": "code",
   "execution_count": 48,
   "metadata": {},
   "outputs": [
    {
     "data": {
      "text/plain": [
       "<matplotlib.collections.PathCollection at 0x1f945c5da20>"
      ]
     },
     "execution_count": 48,
     "metadata": {},
     "output_type": "execute_result"
    },
    {
     "data": {
      "image/png": "[encoded data removed]",
      "text/plain": [
       "<Figure size 432x288 with 1 Axes>"
      ]
     },
     "metadata": {
      "needs_background": "light"
     },
     "output_type": "display_data"
    }
   ],
   "source": [
    "plt.scatter(y_test,predictions)"
   ]
  },
  {
   "cell_type": "code",
   "execution_count": 52,
   "metadata": {},
   "outputs": [
    {
     "data": {
      "text/plain": [
       "<matplotlib.axes._subplots.AxesSubplot at 0x1f945d000f0>"
      ]
     },
     "execution_count": 52,
     "metadata": {},
     "output_type": "execute_result"
    },
    {
     "data": {
      "image/png": "[encoded data removed]",
      "text/plain": [
       "<Figure size 432x288 with 1 Axes>"
      ]
     },
     "metadata": {
      "needs_background": "light"
     },
     "output_type": "display_data"
    }
   ],
   "source": [
    "sns.distplot((y_test-predictions))"
   ]
  },
  {
   "cell_type": "code",
   "execution_count": 50,
   "metadata": {
    "collapsed": true
   },
   "outputs": [],
   "source": [
    "from sklearn import metrics"
   ]
  },
  {
   "cell_type": "code",
   "execution_count": 155,
   "metadata": {},
   "outputs": [
    {
     "name": "stdout",
     "output_type": "stream",
     "text": [
      "MAE: 0.08339809597180739\n",
      "MSE: 0.011605794479354087\n",
      "RMSE: 0.10773019297928546\n"
     ]
    }
   ],
   "source": [
    "print('MAE:', metrics.mean_absolute_error(y_test, predictions))\n",
    "print('MSE:', metrics.mean_squared_error(y_test, predictions))\n",
    "print('RMSE:', np.sqrt(metrics.mean_squared_error(y_test, predictions)))"
   ]
  },
  {
   "cell_type": "markdown",
   "metadata": {},
   "source": [
    "\n",
    "MAE is the average error.\n",
    "\n",
    "MSE is more popular than MAE, \n",
    "\n",
    "RMSE is even more popular than MSE, Predicted Value - actual value / number of instances"
   ]
  },
  {
   "cell_type": "code",
   "execution_count": null,
   "metadata": {
    "collapsed": true
   },
   "outputs": [],
   "source": []
  }
 ],
 "metadata": {
  "kernelspec": {
   "display_name": "Python 3",
   "language": "python",
   "name": "python3"
  },
  "language_info": {
   "codemirror_mode": {
    "name": "ipython",
    "version": 3
   },
   "file_extension": ".py",
   "mimetype": "text/x-python",
   "name": "python",
   "nbconvert_exporter": "python",
   "pygments_lexer": "ipython3",
   "version": "3.7.3"
  }
 },
 "nbformat": 4,
 "nbformat_minor": 2
}
